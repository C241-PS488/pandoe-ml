{
 "cells": [
  {
   "cell_type": "code",
   "execution_count": 1,
   "id": "8765c6ee",
   "metadata": {
    "_cell_guid": "b1076dfc-b9ad-4769-8c92-a6c4dae69d19",
    "_uuid": "8f2839f25d086af736a60e9eeb907d3b93b6e0e5",
    "execution": {
     "iopub.execute_input": "2024-06-15T14:27:29.123372Z",
     "iopub.status.busy": "2024-06-15T14:27:29.122826Z",
     "iopub.status.idle": "2024-06-15T14:27:50.426607Z",
     "shell.execute_reply": "2024-06-15T14:27:50.424943Z"
    },
    "papermill": {
     "duration": 21.316994,
     "end_time": "2024-06-15T14:27:50.429339",
     "exception": false,
     "start_time": "2024-06-15T14:27:29.112345",
     "status": "completed"
    },
    "tags": []
   },
   "outputs": [
    {
     "name": "stdout",
     "output_type": "stream",
     "text": [
      "Collecting tensorflow-recommenders\r\n",
      "  Downloading tensorflow_recommenders-0.7.3-py3-none-any.whl.metadata (4.6 kB)\r\n",
      "Requirement already satisfied: absl-py>=0.1.6 in /opt/conda/lib/python3.10/site-packages (from tensorflow-recommenders) (1.4.0)\r\n",
      "Requirement already satisfied: tensorflow>=2.9.0 in /opt/conda/lib/python3.10/site-packages (from tensorflow-recommenders) (2.15.0)\r\n",
      "Requirement already satisfied: astunparse>=1.6.0 in /opt/conda/lib/python3.10/site-packages (from tensorflow>=2.9.0->tensorflow-recommenders) (1.6.3)\r\n",
      "Requirement already satisfied: flatbuffers>=23.5.26 in /opt/conda/lib/python3.10/site-packages (from tensorflow>=2.9.0->tensorflow-recommenders) (23.5.26)\r\n",
      "Requirement already satisfied: gast!=0.5.0,!=0.5.1,!=0.5.2,>=0.2.1 in /opt/conda/lib/python3.10/site-packages (from tensorflow>=2.9.0->tensorflow-recommenders) (0.5.4)\r\n",
      "Requirement already satisfied: google-pasta>=0.1.1 in /opt/conda/lib/python3.10/site-packages (from tensorflow>=2.9.0->tensorflow-recommenders) (0.2.0)\r\n",
      "Requirement already satisfied: h5py>=2.9.0 in /opt/conda/lib/python3.10/site-packages (from tensorflow>=2.9.0->tensorflow-recommenders) (3.10.0)\r\n",
      "Requirement already satisfied: libclang>=13.0.0 in /opt/conda/lib/python3.10/site-packages (from tensorflow>=2.9.0->tensorflow-recommenders) (16.0.6)\r\n",
      "Requirement already satisfied: ml-dtypes~=0.2.0 in /opt/conda/lib/python3.10/site-packages (from tensorflow>=2.9.0->tensorflow-recommenders) (0.2.0)\r\n",
      "Requirement already satisfied: numpy<2.0.0,>=1.23.5 in /opt/conda/lib/python3.10/site-packages (from tensorflow>=2.9.0->tensorflow-recommenders) (1.26.4)\r\n",
      "Requirement already satisfied: opt-einsum>=2.3.2 in /opt/conda/lib/python3.10/site-packages (from tensorflow>=2.9.0->tensorflow-recommenders) (3.3.0)\r\n",
      "Requirement already satisfied: packaging in /opt/conda/lib/python3.10/site-packages (from tensorflow>=2.9.0->tensorflow-recommenders) (21.3)\r\n",
      "Requirement already satisfied: protobuf!=4.21.0,!=4.21.1,!=4.21.2,!=4.21.3,!=4.21.4,!=4.21.5,<5.0.0dev,>=3.20.3 in /opt/conda/lib/python3.10/site-packages (from tensorflow>=2.9.0->tensorflow-recommenders) (3.20.3)\r\n",
      "Requirement already satisfied: setuptools in /opt/conda/lib/python3.10/site-packages (from tensorflow>=2.9.0->tensorflow-recommenders) (69.0.3)\r\n",
      "Requirement already satisfied: six>=1.12.0 in /opt/conda/lib/python3.10/site-packages (from tensorflow>=2.9.0->tensorflow-recommenders) (1.16.0)\r\n",
      "Requirement already satisfied: termcolor>=1.1.0 in /opt/conda/lib/python3.10/site-packages (from tensorflow>=2.9.0->tensorflow-recommenders) (2.4.0)\r\n",
      "Requirement already satisfied: typing-extensions>=3.6.6 in /opt/conda/lib/python3.10/site-packages (from tensorflow>=2.9.0->tensorflow-recommenders) (4.9.0)\r\n",
      "Requirement already satisfied: wrapt<1.15,>=1.11.0 in /opt/conda/lib/python3.10/site-packages (from tensorflow>=2.9.0->tensorflow-recommenders) (1.14.1)\r\n",
      "Requirement already satisfied: tensorflow-io-gcs-filesystem>=0.23.1 in /opt/conda/lib/python3.10/site-packages (from tensorflow>=2.9.0->tensorflow-recommenders) (0.35.0)\r\n",
      "Requirement already satisfied: grpcio<2.0,>=1.24.3 in /opt/conda/lib/python3.10/site-packages (from tensorflow>=2.9.0->tensorflow-recommenders) (1.60.0)\r\n",
      "Requirement already satisfied: tensorboard<2.16,>=2.15 in /opt/conda/lib/python3.10/site-packages (from tensorflow>=2.9.0->tensorflow-recommenders) (2.15.1)\r\n",
      "Requirement already satisfied: tensorflow-estimator<2.16,>=2.15.0 in /opt/conda/lib/python3.10/site-packages (from tensorflow>=2.9.0->tensorflow-recommenders) (2.15.0)\r\n",
      "Collecting keras<2.16,>=2.15.0 (from tensorflow>=2.9.0->tensorflow-recommenders)\r\n",
      "  Downloading keras-2.15.0-py3-none-any.whl.metadata (2.4 kB)\r\n",
      "Requirement already satisfied: wheel<1.0,>=0.23.0 in /opt/conda/lib/python3.10/site-packages (from astunparse>=1.6.0->tensorflow>=2.9.0->tensorflow-recommenders) (0.42.0)\r\n",
      "Requirement already satisfied: google-auth<3,>=1.6.3 in /opt/conda/lib/python3.10/site-packages (from tensorboard<2.16,>=2.15->tensorflow>=2.9.0->tensorflow-recommenders) (2.26.1)\r\n",
      "Requirement already satisfied: google-auth-oauthlib<2,>=0.5 in /opt/conda/lib/python3.10/site-packages (from tensorboard<2.16,>=2.15->tensorflow>=2.9.0->tensorflow-recommenders) (1.2.0)\r\n",
      "Requirement already satisfied: markdown>=2.6.8 in /opt/conda/lib/python3.10/site-packages (from tensorboard<2.16,>=2.15->tensorflow>=2.9.0->tensorflow-recommenders) (3.5.2)\r\n",
      "Requirement already satisfied: requests<3,>=2.21.0 in /opt/conda/lib/python3.10/site-packages (from tensorboard<2.16,>=2.15->tensorflow>=2.9.0->tensorflow-recommenders) (2.32.3)\r\n",
      "Requirement already satisfied: tensorboard-data-server<0.8.0,>=0.7.0 in /opt/conda/lib/python3.10/site-packages (from tensorboard<2.16,>=2.15->tensorflow>=2.9.0->tensorflow-recommenders) (0.7.2)\r\n",
      "Requirement already satisfied: werkzeug>=1.0.1 in /opt/conda/lib/python3.10/site-packages (from tensorboard<2.16,>=2.15->tensorflow>=2.9.0->tensorflow-recommenders) (3.0.3)\r\n",
      "Requirement already satisfied: pyparsing!=3.0.5,>=2.0.2 in /opt/conda/lib/python3.10/site-packages (from packaging->tensorflow>=2.9.0->tensorflow-recommenders) (3.1.1)\r\n",
      "Requirement already satisfied: cachetools<6.0,>=2.0.0 in /opt/conda/lib/python3.10/site-packages (from google-auth<3,>=1.6.3->tensorboard<2.16,>=2.15->tensorflow>=2.9.0->tensorflow-recommenders) (4.2.4)\r\n",
      "Requirement already satisfied: pyasn1-modules>=0.2.1 in /opt/conda/lib/python3.10/site-packages (from google-auth<3,>=1.6.3->tensorboard<2.16,>=2.15->tensorflow>=2.9.0->tensorflow-recommenders) (0.3.0)\r\n",
      "Requirement already satisfied: rsa<5,>=3.1.4 in /opt/conda/lib/python3.10/site-packages (from google-auth<3,>=1.6.3->tensorboard<2.16,>=2.15->tensorflow>=2.9.0->tensorflow-recommenders) (4.9)\r\n",
      "Requirement already satisfied: requests-oauthlib>=0.7.0 in /opt/conda/lib/python3.10/site-packages (from google-auth-oauthlib<2,>=0.5->tensorboard<2.16,>=2.15->tensorflow>=2.9.0->tensorflow-recommenders) (1.3.1)\r\n",
      "Requirement already satisfied: charset-normalizer<4,>=2 in /opt/conda/lib/python3.10/site-packages (from requests<3,>=2.21.0->tensorboard<2.16,>=2.15->tensorflow>=2.9.0->tensorflow-recommenders) (3.3.2)\r\n",
      "Requirement already satisfied: idna<4,>=2.5 in /opt/conda/lib/python3.10/site-packages (from requests<3,>=2.21.0->tensorboard<2.16,>=2.15->tensorflow>=2.9.0->tensorflow-recommenders) (3.6)\r\n",
      "Requirement already satisfied: urllib3<3,>=1.21.1 in /opt/conda/lib/python3.10/site-packages (from requests<3,>=2.21.0->tensorboard<2.16,>=2.15->tensorflow>=2.9.0->tensorflow-recommenders) (1.26.18)\r\n",
      "Requirement already satisfied: certifi>=2017.4.17 in /opt/conda/lib/python3.10/site-packages (from requests<3,>=2.21.0->tensorboard<2.16,>=2.15->tensorflow>=2.9.0->tensorflow-recommenders) (2024.2.2)\r\n",
      "Requirement already satisfied: MarkupSafe>=2.1.1 in /opt/conda/lib/python3.10/site-packages (from werkzeug>=1.0.1->tensorboard<2.16,>=2.15->tensorflow>=2.9.0->tensorflow-recommenders) (2.1.3)\r\n",
      "Requirement already satisfied: pyasn1<0.6.0,>=0.4.6 in /opt/conda/lib/python3.10/site-packages (from pyasn1-modules>=0.2.1->google-auth<3,>=1.6.3->tensorboard<2.16,>=2.15->tensorflow>=2.9.0->tensorflow-recommenders) (0.5.1)\r\n",
      "Requirement already satisfied: oauthlib>=3.0.0 in /opt/conda/lib/python3.10/site-packages (from requests-oauthlib>=0.7.0->google-auth-oauthlib<2,>=0.5->tensorboard<2.16,>=2.15->tensorflow>=2.9.0->tensorflow-recommenders) (3.2.2)\r\n",
      "Downloading tensorflow_recommenders-0.7.3-py3-none-any.whl (96 kB)\r\n",
      "\u001b[2K   \u001b[90m━━━━━━━━━━━━━━━━━━━━━━━━━━━━━━━━━━━━━━━━\u001b[0m \u001b[32m96.2/96.2 kB\u001b[0m \u001b[31m2.3 MB/s\u001b[0m eta \u001b[36m0:00:00\u001b[0m\r\n",
      "\u001b[?25hDownloading keras-2.15.0-py3-none-any.whl (1.7 MB)\r\n",
      "\u001b[2K   \u001b[90m━━━━━━━━━━━━━━━━━━━━━━━━━━━━━━━━━━━━━━━━\u001b[0m \u001b[32m1.7/1.7 MB\u001b[0m \u001b[31m28.2 MB/s\u001b[0m eta \u001b[36m0:00:00\u001b[0m\r\n",
      "\u001b[?25hInstalling collected packages: keras, tensorflow-recommenders\r\n",
      "  Attempting uninstall: keras\r\n",
      "    Found existing installation: keras 3.3.3\r\n",
      "    Uninstalling keras-3.3.3:\r\n",
      "      Successfully uninstalled keras-3.3.3\r\n",
      "\u001b[31mERROR: pip's dependency resolver does not currently take into account all the packages that are installed. This behaviour is the source of the following dependency conflicts.\r\n",
      "tensorflow-decision-forests 1.8.1 requires wurlitzer, which is not installed.\u001b[0m\u001b[31m\r\n",
      "\u001b[0mSuccessfully installed keras-2.15.0 tensorflow-recommenders-0.7.3\r\n",
      "Note: you may need to restart the kernel to use updated packages.\n"
     ]
    }
   ],
   "source": [
    "pip install tensorflow-recommenders"
   ]
  },
  {
   "cell_type": "code",
   "execution_count": 2,
   "id": "e7435092",
   "metadata": {
    "execution": {
     "iopub.execute_input": "2024-06-15T14:27:50.450683Z",
     "iopub.status.busy": "2024-06-15T14:27:50.450144Z",
     "iopub.status.idle": "2024-06-15T14:28:07.466493Z",
     "shell.execute_reply": "2024-06-15T14:28:07.465055Z"
    },
    "papermill": {
     "duration": 17.031624,
     "end_time": "2024-06-15T14:28:07.470378",
     "exception": false,
     "start_time": "2024-06-15T14:27:50.438754",
     "status": "completed"
    },
    "tags": []
   },
   "outputs": [
    {
     "name": "stderr",
     "output_type": "stream",
     "text": [
      "2024-06-15 14:27:52.983800: E external/local_xla/xla/stream_executor/cuda/cuda_dnn.cc:9261] Unable to register cuDNN factory: Attempting to register factory for plugin cuDNN when one has already been registered\n",
      "2024-06-15 14:27:52.984031: E external/local_xla/xla/stream_executor/cuda/cuda_fft.cc:607] Unable to register cuFFT factory: Attempting to register factory for plugin cuFFT when one has already been registered\n",
      "2024-06-15 14:27:53.169158: E external/local_xla/xla/stream_executor/cuda/cuda_blas.cc:1515] Unable to register cuBLAS factory: Attempting to register factory for plugin cuBLAS when one has already been registered\n"
     ]
    }
   ],
   "source": [
    "import tensorflow as tf\n",
    "import tensorflow_recommenders as tfrs\n",
    "from typing import Dict, Text\n",
    "import numpy as np\n",
    "import pandas as pd"
   ]
  },
  {
   "cell_type": "code",
   "execution_count": 3,
   "id": "7c21ce1a",
   "metadata": {
    "execution": {
     "iopub.execute_input": "2024-06-15T14:28:07.492661Z",
     "iopub.status.busy": "2024-06-15T14:28:07.491846Z",
     "iopub.status.idle": "2024-06-15T14:28:07.974427Z",
     "shell.execute_reply": "2024-06-15T14:28:07.972844Z"
    },
    "papermill": {
     "duration": 0.497287,
     "end_time": "2024-06-15T14:28:07.977592",
     "exception": false,
     "start_time": "2024-06-15T14:28:07.480305",
     "status": "completed"
    },
    "tags": []
   },
   "outputs": [
    {
     "data": {
      "text/html": [
       "<div>\n",
       "<style scoped>\n",
       "    .dataframe tbody tr th:only-of-type {\n",
       "        vertical-align: middle;\n",
       "    }\n",
       "\n",
       "    .dataframe tbody tr th {\n",
       "        vertical-align: top;\n",
       "    }\n",
       "\n",
       "    .dataframe thead th {\n",
       "        text-align: right;\n",
       "    }\n",
       "</style>\n",
       "<table border=\"1\" class=\"dataframe\">\n",
       "  <thead>\n",
       "    <tr style=\"text-align: right;\">\n",
       "      <th></th>\n",
       "      <th>user_id</th>\n",
       "      <th>hobi</th>\n",
       "      <th>pekerjaan</th>\n",
       "      <th>lama pengalaman</th>\n",
       "      <th>aset</th>\n",
       "      <th>ide_bisnis</th>\n",
       "      <th>label</th>\n",
       "    </tr>\n",
       "  </thead>\n",
       "  <tbody>\n",
       "    <tr>\n",
       "      <th>0</th>\n",
       "      <td>1</td>\n",
       "      <td>memotret</td>\n",
       "      <td>guru</td>\n",
       "      <td>1 Sampai 3 Tahun</td>\n",
       "      <td>rendah</td>\n",
       "      <td>Jasa Fotografi Sekolah</td>\n",
       "      <td>5</td>\n",
       "    </tr>\n",
       "    <tr>\n",
       "      <th>1</th>\n",
       "      <td>1</td>\n",
       "      <td>memotret</td>\n",
       "      <td>guru</td>\n",
       "      <td>1 Sampai 3 Tahun</td>\n",
       "      <td>rendah</td>\n",
       "      <td>Fotografi Personal untuk Acara Keluarga</td>\n",
       "      <td>5</td>\n",
       "    </tr>\n",
       "    <tr>\n",
       "      <th>2</th>\n",
       "      <td>1</td>\n",
       "      <td>memotret</td>\n",
       "      <td>guru</td>\n",
       "      <td>1 Sampai 3 Tahun</td>\n",
       "      <td>rendah</td>\n",
       "      <td>Kelas Fotografi untuk Anak-anak</td>\n",
       "      <td>4</td>\n",
       "    </tr>\n",
       "    <tr>\n",
       "      <th>3</th>\n",
       "      <td>1</td>\n",
       "      <td>memotret</td>\n",
       "      <td>guru</td>\n",
       "      <td>1 Sampai 3 Tahun</td>\n",
       "      <td>rendah</td>\n",
       "      <td>Jasa Fotografi Online</td>\n",
       "      <td>3</td>\n",
       "    </tr>\n",
       "    <tr>\n",
       "      <th>4</th>\n",
       "      <td>1</td>\n",
       "      <td>memotret</td>\n",
       "      <td>guru</td>\n",
       "      <td>1 Sampai 3 Tahun</td>\n",
       "      <td>rendah</td>\n",
       "      <td>Buku Panduan Fotografi untuk Pemula</td>\n",
       "      <td>2</td>\n",
       "    </tr>\n",
       "  </tbody>\n",
       "</table>\n",
       "</div>"
      ],
      "text/plain": [
       "   user_id      hobi pekerjaan   lama pengalaman    aset  \\\n",
       "0        1  memotret      guru  1 Sampai 3 Tahun  rendah   \n",
       "1        1  memotret      guru  1 Sampai 3 Tahun  rendah   \n",
       "2        1  memotret      guru  1 Sampai 3 Tahun  rendah   \n",
       "3        1  memotret      guru  1 Sampai 3 Tahun  rendah   \n",
       "4        1  memotret      guru  1 Sampai 3 Tahun  rendah   \n",
       "\n",
       "                                 ide_bisnis  label  \n",
       "0                    Jasa Fotografi Sekolah      5  \n",
       "1  Fotografi Personal untuk Acara Keluarga       5  \n",
       "2           Kelas Fotografi untuk Anak-anak      4  \n",
       "3                     Jasa Fotografi Online      3  \n",
       "4       Buku Panduan Fotografi untuk Pemula      2  "
      ]
     },
     "execution_count": 3,
     "metadata": {},
     "output_type": "execute_result"
    }
   ],
   "source": [
    "df = pd.read_excel(\"/kaggle/input/ide-bisnis-2/ide_bisnis-_4_.xlsx\", sheet_name='mirip')\n",
    "df.head()"
   ]
  },
  {
   "cell_type": "code",
   "execution_count": 4,
   "id": "47b91668",
   "metadata": {
    "execution": {
     "iopub.execute_input": "2024-06-15T14:28:08.001083Z",
     "iopub.status.busy": "2024-06-15T14:28:08.000016Z",
     "iopub.status.idle": "2024-06-15T14:28:08.031463Z",
     "shell.execute_reply": "2024-06-15T14:28:08.029533Z"
    },
    "papermill": {
     "duration": 0.047079,
     "end_time": "2024-06-15T14:28:08.034878",
     "exception": false,
     "start_time": "2024-06-15T14:28:07.987799",
     "status": "completed"
    },
    "tags": []
   },
   "outputs": [
    {
     "name": "stdout",
     "output_type": "stream",
     "text": [
      "<class 'pandas.core.frame.DataFrame'>\n",
      "RangeIndex: 106 entries, 0 to 105\n",
      "Data columns (total 7 columns):\n",
      " #   Column           Non-Null Count  Dtype \n",
      "---  ------           --------------  ----- \n",
      " 0   user_id          106 non-null    int64 \n",
      " 1   hobi             106 non-null    object\n",
      " 2   pekerjaan        106 non-null    object\n",
      " 3   lama pengalaman  106 non-null    object\n",
      " 4   aset             106 non-null    object\n",
      " 5   ide_bisnis       106 non-null    object\n",
      " 6   label            106 non-null    int64 \n",
      "dtypes: int64(2), object(5)\n",
      "memory usage: 5.9+ KB\n"
     ]
    }
   ],
   "source": [
    "df.info()"
   ]
  },
  {
   "cell_type": "code",
   "execution_count": 5,
   "id": "370df7f4",
   "metadata": {
    "execution": {
     "iopub.execute_input": "2024-06-15T14:28:08.059876Z",
     "iopub.status.busy": "2024-06-15T14:28:08.059390Z",
     "iopub.status.idle": "2024-06-15T14:28:08.073767Z",
     "shell.execute_reply": "2024-06-15T14:28:08.071885Z"
    },
    "papermill": {
     "duration": 0.028979,
     "end_time": "2024-06-15T14:28:08.076571",
     "exception": false,
     "start_time": "2024-06-15T14:28:08.047592",
     "status": "completed"
    },
    "tags": []
   },
   "outputs": [
    {
     "data": {
      "text/plain": [
       "user_id            21\n",
       "hobi               10\n",
       "pekerjaan          15\n",
       "lama pengalaman     7\n",
       "aset                3\n",
       "ide_bisnis         97\n",
       "label               5\n",
       "dtype: int64"
      ]
     },
     "execution_count": 5,
     "metadata": {},
     "output_type": "execute_result"
    }
   ],
   "source": [
    "df.nunique()"
   ]
  },
  {
   "cell_type": "code",
   "execution_count": 6,
   "id": "33ab3e44",
   "metadata": {
    "execution": {
     "iopub.execute_input": "2024-06-15T14:28:08.100212Z",
     "iopub.status.busy": "2024-06-15T14:28:08.099212Z",
     "iopub.status.idle": "2024-06-15T14:28:09.296996Z",
     "shell.execute_reply": "2024-06-15T14:28:09.295538Z"
    },
    "papermill": {
     "duration": 1.213218,
     "end_time": "2024-06-15T14:28:09.300493",
     "exception": false,
     "start_time": "2024-06-15T14:28:08.087275",
     "status": "completed"
    },
    "tags": []
   },
   "outputs": [
    {
     "name": "stdout",
     "output_type": "stream",
     "text": [
      "     user_id      hobi  pekerjaan   lama pengalaman      aset  \\\n",
      "0          1  memotret       guru  1 Sampai 3 Tahun    rendah   \n",
      "1          1  memotret       guru  1 Sampai 3 Tahun    rendah   \n",
      "2          1  memotret       guru  1 Sampai 3 Tahun    rendah   \n",
      "3          1  memotret       guru  1 Sampai 3 Tahun    rendah   \n",
      "4          1  memotret       guru  1 Sampai 3 Tahun    rendah   \n",
      "..       ...       ...        ...               ...       ...   \n",
      "101       21  memotret  pengacara  3 Sampai 5 Tahun  menengah   \n",
      "102       21  memotret  pengacara  3 Sampai 5 Tahun  menengah   \n",
      "103       21  memotret  pengacara  3 Sampai 5 Tahun  menengah   \n",
      "104       21  memotret  pengacara  3 Sampai 5 Tahun  menengah   \n",
      "105       21  memotret  pengacara  3 Sampai 5 Tahun  menengah   \n",
      "\n",
      "                                   ide_bisnis  label  \n",
      "0                      Jasa Fotografi Sekolah   1.00  \n",
      "1    Fotografi Personal untuk Acara Keluarga    1.00  \n",
      "2             Kelas Fotografi untuk Anak-anak   0.75  \n",
      "3                       Jasa Fotografi Online   0.50  \n",
      "4         Buku Panduan Fotografi untuk Pemula   0.25  \n",
      "..                                        ...    ...  \n",
      "101                      Jasa Fotografi Hukum   1.00  \n",
      "102                 Jasa Fotografi Pernikahan   0.75  \n",
      "103                   Bisnis Alat Dokumentasi   0.50  \n",
      "104                       Kursus Materi Hukum   0.25  \n",
      "105                              Jual Sembako   0.00  \n",
      "\n",
      "[106 rows x 7 columns]\n"
     ]
    }
   ],
   "source": [
    "from sklearn.preprocessing import MinMaxScaler\n",
    "\n",
    "# Initialize the MinMaxScaler\n",
    "scaler = MinMaxScaler(feature_range=(0, 1))\n",
    "\n",
    "# Reshape the column to fit the scaler's expected input and scale it\n",
    "df['label'] = scaler.fit_transform(df[['label']])\n",
    "print(df)"
   ]
  },
  {
   "cell_type": "code",
   "execution_count": 7,
   "id": "da72f956",
   "metadata": {
    "execution": {
     "iopub.execute_input": "2024-06-15T14:28:09.323158Z",
     "iopub.status.busy": "2024-06-15T14:28:09.322634Z",
     "iopub.status.idle": "2024-06-15T14:28:09.457585Z",
     "shell.execute_reply": "2024-06-15T14:28:09.454881Z"
    },
    "papermill": {
     "duration": 0.150692,
     "end_time": "2024-06-15T14:28:09.461571",
     "exception": false,
     "start_time": "2024-06-15T14:28:09.310879",
     "status": "completed"
    },
    "tags": []
   },
   "outputs": [
    {
     "data": {
      "text/plain": [
       "<_MapDataset element_spec={'hobi': TensorSpec(shape=(), dtype=tf.string, name=None), 'pekerjaan': TensorSpec(shape=(), dtype=tf.string, name=None), 'lama pengalaman': TensorSpec(shape=(), dtype=tf.string, name=None), 'aset': TensorSpec(shape=(), dtype=tf.string, name=None), 'ide_bisnis': TensorSpec(shape=(), dtype=tf.string, name=None), 'label': TensorSpec(shape=(), dtype=tf.string, name=None)}>"
      ]
     },
     "execution_count": 7,
     "metadata": {},
     "output_type": "execute_result"
    }
   ],
   "source": [
    "ide_bisnis = tf.data.Dataset.from_tensor_slices(dict(df[['hobi', 'pekerjaan', 'lama pengalaman', 'aset', 'ide_bisnis', 'label']]))\n",
    "\n",
    "ide_bisnis = ide_bisnis.map(lambda x: {'hobi' : x['hobi'],\n",
    "                                      'pekerjaan': x['pekerjaan'],\n",
    "                                      'lama pengalaman': x['lama pengalaman'],\n",
    "                                      'aset': x['aset'],\n",
    "                                      'ide_bisnis': x['ide_bisnis'],\n",
    "                                      'label': tf.as_string(x['label'])})\n",
    "\n",
    "ide_bisnis"
   ]
  },
  {
   "cell_type": "code",
   "execution_count": 8,
   "id": "5b20ec75",
   "metadata": {
    "execution": {
     "iopub.execute_input": "2024-06-15T14:28:09.502227Z",
     "iopub.status.busy": "2024-06-15T14:28:09.501588Z",
     "iopub.status.idle": "2024-06-15T14:28:09.547365Z",
     "shell.execute_reply": "2024-06-15T14:28:09.545615Z"
    },
    "papermill": {
     "duration": 0.071971,
     "end_time": "2024-06-15T14:28:09.550635",
     "exception": false,
     "start_time": "2024-06-15T14:28:09.478664",
     "status": "completed"
    },
    "tags": []
   },
   "outputs": [],
   "source": [
    "tf.random.set_seed(42)\n",
    "shuffled = ide_bisnis.shuffle(106, seed=42, reshuffle_each_iteration=False)\n",
    "\n",
    "train = shuffled.take(int(106*0.8))\n",
    "test = shuffled.skip(int(106*0.8)).take(106-(int(106*0.8)))"
   ]
  },
  {
   "cell_type": "code",
   "execution_count": 9,
   "id": "fb0dc8c1",
   "metadata": {
    "execution": {
     "iopub.execute_input": "2024-06-15T14:28:09.573950Z",
     "iopub.status.busy": "2024-06-15T14:28:09.573528Z",
     "iopub.status.idle": "2024-06-15T14:28:09.874367Z",
     "shell.execute_reply": "2024-06-15T14:28:09.872700Z"
    },
    "papermill": {
     "duration": 0.316437,
     "end_time": "2024-06-15T14:28:09.877976",
     "exception": false,
     "start_time": "2024-06-15T14:28:09.561539",
     "status": "completed"
    },
    "tags": []
   },
   "outputs": [],
   "source": [
    "hobi = ide_bisnis.batch(4).map(lambda x: x['hobi'])\n",
    "pekerjaan = ide_bisnis.batch(4).map(lambda x: x['pekerjaan'])\n",
    "lama_pengalaman = ide_bisnis.batch(4).map(lambda x: x['lama pengalaman'])\n",
    "aset = ide_bisnis.batch(4).map(lambda x: x['aset'])\n",
    "\n",
    "unique_hobi = np.unique(np.concatenate(list(hobi)))\n",
    "unique_pekerjaan = np.unique(np.concatenate(list(pekerjaan)))\n",
    "unique_lama_pengalaman = np.unique(np.concatenate(list(lama_pengalaman)))\n",
    "unique_aset = np.unique(np.concatenate(list(aset)))"
   ]
  },
  {
   "cell_type": "code",
   "execution_count": 10,
   "id": "f44c9422",
   "metadata": {
    "execution": {
     "iopub.execute_input": "2024-06-15T14:28:09.901821Z",
     "iopub.status.busy": "2024-06-15T14:28:09.901338Z",
     "iopub.status.idle": "2024-06-15T14:28:09.920666Z",
     "shell.execute_reply": "2024-06-15T14:28:09.919105Z"
    },
    "papermill": {
     "duration": 0.035073,
     "end_time": "2024-06-15T14:28:09.923905",
     "exception": false,
     "start_time": "2024-06-15T14:28:09.888832",
     "status": "completed"
    },
    "tags": []
   },
   "outputs": [],
   "source": [
    "class RankingModel(tf.keras.Model):\n",
    "\n",
    "    def __init__(self):\n",
    "        super().__init__()\n",
    "        embedding_dimension = 32\n",
    "        max_tokens = 10_000\n",
    "        # Compute embeddings for users.\n",
    "        self.hobi_embeddings = tf.keras.Sequential([\n",
    "          tf.keras.layers.StringLookup(\n",
    "            vocabulary=unique_hobi, mask_token=None),\n",
    "          tf.keras.layers.Embedding(len(unique_hobi) + 1, embedding_dimension)\n",
    "        ])\n",
    "        \n",
    "        self.pekerjaan_embeddings = tf.keras.Sequential([\n",
    "          tf.keras.layers.StringLookup(\n",
    "            vocabulary=unique_pekerjaan, mask_token=None),\n",
    "          tf.keras.layers.Embedding(len(unique_pekerjaan) + 1, embedding_dimension)\n",
    "        ])\n",
    "        \n",
    "        self.lama_pengalaman_embeddings = tf.keras.Sequential([\n",
    "          tf.keras.layers.StringLookup(\n",
    "            vocabulary=unique_lama_pengalaman, mask_token=None),\n",
    "          tf.keras.layers.Embedding(len(unique_lama_pengalaman) + 1, embedding_dimension)\n",
    "        ])\n",
    "            \n",
    "        self.aset_embeddings = tf.keras.Sequential([\n",
    "          tf.keras.layers.StringLookup(\n",
    "            vocabulary=unique_aset, mask_token=None),\n",
    "          tf.keras.layers.Embedding(len(unique_aset) + 1, embedding_dimension)\n",
    "        ])\n",
    "\n",
    "        # Compute embeddings for movies.\n",
    "        self.ide_bisnis_text_vectorizer = tf.keras.layers.TextVectorization(max_tokens=max_tokens)\n",
    "        self.ide_bisnis_embeddings = tf.keras.Sequential([\n",
    "            self.ide_bisnis_text_vectorizer,\n",
    "            tf.keras.layers.Embedding(max_tokens, embedding_dimension),\n",
    "            tf.keras.layers.GlobalAveragePooling1D()\n",
    "        ])\n",
    "        self.ide_bisnis_text_vectorizer.adapt(ide_bisnis.map(lambda x: x['ide_bisnis']))\n",
    "\n",
    "        # Compute predictions.\n",
    "        self.similarity = tf.keras.Sequential([\n",
    "          # Learn multiple dense layers.\n",
    "          tf.keras.layers.Dense(256, activation=\"relu\"),\n",
    "          tf.keras.layers.Dense(64, activation=\"relu\"),\n",
    "          # Make rating predictions in the final layer.\n",
    "          tf.keras.layers.Dense(1)\n",
    "      ])\n",
    "\n",
    "    def call(self, inputs):\n",
    "\n",
    "        hobi, pekerjaan, lama_pengalaman, aset, ide_bisnis = inputs\n",
    "\n",
    "        hobi_embedding = self.hobi_embeddings(hobi)\n",
    "        pekerjaan_embedding = self.pekerjaan_embeddings(pekerjaan)\n",
    "        lama_pengalaman_embedding = self.lama_pengalaman_embeddings(lama_pengalaman)\n",
    "        aset_embedding = self.aset_embeddings(aset)\n",
    "        user_embedding = tf.concat([hobi_embedding, pekerjaan_embedding, lama_pengalaman_embedding, aset_embedding], axis=1)\n",
    "        ide_embedding = self.ide_bisnis_embeddings(ide_bisnis)\n",
    "        \n",
    "        return self.similarity(tf.concat([user_embedding, ide_embedding], axis=1))\n",
    "    "
   ]
  },
  {
   "cell_type": "code",
   "execution_count": 11,
   "id": "d69bbb36",
   "metadata": {
    "execution": {
     "iopub.execute_input": "2024-06-15T14:28:09.947757Z",
     "iopub.status.busy": "2024-06-15T14:28:09.947273Z",
     "iopub.status.idle": "2024-06-15T14:28:10.625239Z",
     "shell.execute_reply": "2024-06-15T14:28:10.623894Z"
    },
    "papermill": {
     "duration": 0.693092,
     "end_time": "2024-06-15T14:28:10.628110",
     "exception": false,
     "start_time": "2024-06-15T14:28:09.935018",
     "status": "completed"
    },
    "tags": []
   },
   "outputs": [
    {
     "data": {
      "text/plain": [
       "<tf.Tensor: shape=(1, 1), dtype=float32, numpy=array([[-0.00360916]], dtype=float32)>"
      ]
     },
     "execution_count": 11,
     "metadata": {},
     "output_type": "execute_result"
    }
   ],
   "source": [
    "RankingModel()(([\"memotret\"], [\"guru\"], [\"1 Sampai 3 Tahun\"],[\"rendah\"], ['Buku Panduan Fotografi untuk Pemula']))"
   ]
  },
  {
   "cell_type": "code",
   "execution_count": 12,
   "id": "3f75da55",
   "metadata": {
    "execution": {
     "iopub.execute_input": "2024-06-15T14:28:10.652221Z",
     "iopub.status.busy": "2024-06-15T14:28:10.651735Z",
     "iopub.status.idle": "2024-06-15T14:28:10.673967Z",
     "shell.execute_reply": "2024-06-15T14:28:10.672601Z"
    },
    "papermill": {
     "duration": 0.037868,
     "end_time": "2024-06-15T14:28:10.677087",
     "exception": false,
     "start_time": "2024-06-15T14:28:10.639219",
     "status": "completed"
    },
    "tags": []
   },
   "outputs": [],
   "source": [
    "task = tfrs.tasks.Ranking(\n",
    "  loss = tf.keras.losses.MeanSquaredError(),\n",
    "  metrics=[tf.keras.metrics.RootMeanSquaredError()]\n",
    ")"
   ]
  },
  {
   "cell_type": "code",
   "execution_count": 13,
   "id": "c9ae96ae",
   "metadata": {
    "execution": {
     "iopub.execute_input": "2024-06-15T14:28:10.700280Z",
     "iopub.status.busy": "2024-06-15T14:28:10.699793Z",
     "iopub.status.idle": "2024-06-15T14:28:10.711788Z",
     "shell.execute_reply": "2024-06-15T14:28:10.710420Z"
    },
    "papermill": {
     "duration": 0.026713,
     "end_time": "2024-06-15T14:28:10.714405",
     "exception": false,
     "start_time": "2024-06-15T14:28:10.687692",
     "status": "completed"
    },
    "tags": []
   },
   "outputs": [],
   "source": [
    "class IdeBisnisModel(tfrs.models.Model):\n",
    "\n",
    "    def __init__(self):\n",
    "        super().__init__()\n",
    "        self.ranking_model: tf.keras.Model = RankingModel()\n",
    "        self.task: tf.keras.layers.Layer = tfrs.tasks.Ranking(\n",
    "            loss=tf.keras.losses.MeanSquaredError(),\n",
    "            metrics=[tf.keras.metrics.RootMeanSquaredError()]\n",
    "        )\n",
    "\n",
    "    def call(self, features: Dict[str, tf.Tensor]) -> tf.Tensor:\n",
    "        return self.ranking_model(\n",
    "            (features[\"hobi\"], features[\"pekerjaan\"], features[\"lama pengalaman\"], features[\"aset\"], features['ide_bisnis']))\n",
    "\n",
    "    def compute_loss(self, features: Dict[str, tf.Tensor], training=False) -> tf.Tensor:\n",
    "        # Extract labels and convert to numeric format\n",
    "        labels = features.pop(\"label\")\n",
    "        labels = tf.strings.to_number(labels, tf.float32)  \n",
    "\n",
    "        rating_predictions = self(features)\n",
    "\n",
    "    # The task computes the loss and the metrics.\n",
    "        return self.task(labels=labels, predictions=rating_predictions)"
   ]
  },
  {
   "cell_type": "markdown",
   "id": "b4d7131f",
   "metadata": {
    "papermill": {
     "duration": 0.01018,
     "end_time": "2024-06-15T14:28:10.735555",
     "exception": false,
     "start_time": "2024-06-15T14:28:10.725375",
     "status": "completed"
    },
    "tags": []
   },
   "source": [
    "# Fitting and Model Evaluating"
   ]
  },
  {
   "cell_type": "code",
   "execution_count": 14,
   "id": "da2ef23a",
   "metadata": {
    "execution": {
     "iopub.execute_input": "2024-06-15T14:28:10.758631Z",
     "iopub.status.busy": "2024-06-15T14:28:10.758113Z",
     "iopub.status.idle": "2024-06-15T14:28:11.142917Z",
     "shell.execute_reply": "2024-06-15T14:28:11.141572Z"
    },
    "papermill": {
     "duration": 0.40016,
     "end_time": "2024-06-15T14:28:11.146025",
     "exception": false,
     "start_time": "2024-06-15T14:28:10.745865",
     "status": "completed"
    },
    "tags": []
   },
   "outputs": [],
   "source": [
    "model = IdeBisnisModel()\n",
    "model.compile(optimizer=tf.keras.optimizers.Adagrad(learning_rate=0.1))"
   ]
  },
  {
   "cell_type": "code",
   "execution_count": 15,
   "id": "d912c20a",
   "metadata": {
    "execution": {
     "iopub.execute_input": "2024-06-15T14:28:11.168811Z",
     "iopub.status.busy": "2024-06-15T14:28:11.168378Z",
     "iopub.status.idle": "2024-06-15T14:28:11.184723Z",
     "shell.execute_reply": "2024-06-15T14:28:11.183290Z"
    },
    "papermill": {
     "duration": 0.031391,
     "end_time": "2024-06-15T14:28:11.187834",
     "exception": false,
     "start_time": "2024-06-15T14:28:11.156443",
     "status": "completed"
    },
    "tags": []
   },
   "outputs": [],
   "source": [
    "cached_train = train.batch(16).cache()\n",
    "cached_test = test.batch(10).cache()"
   ]
  },
  {
   "cell_type": "code",
   "execution_count": 16,
   "id": "11dff299",
   "metadata": {
    "execution": {
     "iopub.execute_input": "2024-06-15T14:28:11.213675Z",
     "iopub.status.busy": "2024-06-15T14:28:11.213244Z",
     "iopub.status.idle": "2024-06-15T14:28:14.679957Z",
     "shell.execute_reply": "2024-06-15T14:28:14.678348Z"
    },
    "papermill": {
     "duration": 3.482859,
     "end_time": "2024-06-15T14:28:14.683181",
     "exception": false,
     "start_time": "2024-06-15T14:28:11.200322",
     "status": "completed"
    },
    "tags": []
   },
   "outputs": [
    {
     "name": "stdout",
     "output_type": "stream",
     "text": [
      "Epoch 1/50\n",
      "6/6 [==============================] - 2s 6ms/step - root_mean_squared_error: 0.4346 - loss: 0.1463 - regularization_loss: 0.0000e+00 - total_loss: 0.1463\n",
      "Epoch 2/50\n",
      "6/6 [==============================] - 0s 5ms/step - root_mean_squared_error: 0.3550 - loss: 0.0982 - regularization_loss: 0.0000e+00 - total_loss: 0.0982\n",
      "Epoch 3/50\n",
      "6/6 [==============================] - 0s 4ms/step - root_mean_squared_error: 0.3514 - loss: 0.0960 - regularization_loss: 0.0000e+00 - total_loss: 0.0960\n",
      "Epoch 4/50\n",
      "6/6 [==============================] - 0s 4ms/step - root_mean_squared_error: 0.3487 - loss: 0.0944 - regularization_loss: 0.0000e+00 - total_loss: 0.0944\n",
      "Epoch 5/50\n",
      "6/6 [==============================] - 0s 4ms/step - root_mean_squared_error: 0.3465 - loss: 0.0930 - regularization_loss: 0.0000e+00 - total_loss: 0.0930\n",
      "Epoch 6/50\n",
      "6/6 [==============================] - 0s 4ms/step - root_mean_squared_error: 0.3446 - loss: 0.0919 - regularization_loss: 0.0000e+00 - total_loss: 0.0919\n",
      "Epoch 7/50\n",
      "6/6 [==============================] - 0s 5ms/step - root_mean_squared_error: 0.3429 - loss: 0.0910 - regularization_loss: 0.0000e+00 - total_loss: 0.0910\n",
      "Epoch 8/50\n",
      "6/6 [==============================] - 0s 4ms/step - root_mean_squared_error: 0.3410 - loss: 0.0900 - regularization_loss: 0.0000e+00 - total_loss: 0.0900\n",
      "Epoch 9/50\n",
      "6/6 [==============================] - 0s 4ms/step - root_mean_squared_error: 0.3394 - loss: 0.0891 - regularization_loss: 0.0000e+00 - total_loss: 0.0891\n",
      "Epoch 10/50\n",
      "6/6 [==============================] - 0s 4ms/step - root_mean_squared_error: 0.3377 - loss: 0.0883 - regularization_loss: 0.0000e+00 - total_loss: 0.0883\n",
      "Epoch 11/50\n",
      "6/6 [==============================] - 0s 4ms/step - root_mean_squared_error: 0.3358 - loss: 0.0874 - regularization_loss: 0.0000e+00 - total_loss: 0.0874\n",
      "Epoch 12/50\n",
      "6/6 [==============================] - 0s 4ms/step - root_mean_squared_error: 0.3337 - loss: 0.0863 - regularization_loss: 0.0000e+00 - total_loss: 0.0863\n",
      "Epoch 13/50\n",
      "6/6 [==============================] - 0s 4ms/step - root_mean_squared_error: 0.3315 - loss: 0.0853 - regularization_loss: 0.0000e+00 - total_loss: 0.0853\n",
      "Epoch 14/50\n",
      "6/6 [==============================] - 0s 4ms/step - root_mean_squared_error: 0.3291 - loss: 0.0841 - regularization_loss: 0.0000e+00 - total_loss: 0.0841\n",
      "Epoch 15/50\n",
      "6/6 [==============================] - 0s 4ms/step - root_mean_squared_error: 0.3266 - loss: 0.0830 - regularization_loss: 0.0000e+00 - total_loss: 0.0830\n",
      "Epoch 16/50\n",
      "6/6 [==============================] - 0s 5ms/step - root_mean_squared_error: 0.3234 - loss: 0.0815 - regularization_loss: 0.0000e+00 - total_loss: 0.0815\n",
      "Epoch 17/50\n",
      "6/6 [==============================] - 0s 4ms/step - root_mean_squared_error: 0.3204 - loss: 0.0803 - regularization_loss: 0.0000e+00 - total_loss: 0.0803\n",
      "Epoch 18/50\n",
      "6/6 [==============================] - 0s 4ms/step - root_mean_squared_error: 0.3169 - loss: 0.0788 - regularization_loss: 0.0000e+00 - total_loss: 0.0788\n",
      "Epoch 19/50\n",
      "6/6 [==============================] - 0s 4ms/step - root_mean_squared_error: 0.3134 - loss: 0.0773 - regularization_loss: 0.0000e+00 - total_loss: 0.0773\n",
      "Epoch 20/50\n",
      "6/6 [==============================] - 0s 4ms/step - root_mean_squared_error: 0.3095 - loss: 0.0757 - regularization_loss: 0.0000e+00 - total_loss: 0.0757\n",
      "Epoch 21/50\n",
      "6/6 [==============================] - 0s 4ms/step - root_mean_squared_error: 0.3056 - loss: 0.0740 - regularization_loss: 0.0000e+00 - total_loss: 0.0740\n",
      "Epoch 22/50\n",
      "6/6 [==============================] - 0s 4ms/step - root_mean_squared_error: 0.3013 - loss: 0.0722 - regularization_loss: 0.0000e+00 - total_loss: 0.0722\n",
      "Epoch 23/50\n",
      "6/6 [==============================] - 0s 4ms/step - root_mean_squared_error: 0.2971 - loss: 0.0705 - regularization_loss: 0.0000e+00 - total_loss: 0.0705\n",
      "Epoch 24/50\n",
      "6/6 [==============================] - 0s 4ms/step - root_mean_squared_error: 0.2925 - loss: 0.0686 - regularization_loss: 0.0000e+00 - total_loss: 0.0686\n",
      "Epoch 25/50\n",
      "6/6 [==============================] - 0s 5ms/step - root_mean_squared_error: 0.2882 - loss: 0.0667 - regularization_loss: 0.0000e+00 - total_loss: 0.0667\n",
      "Epoch 26/50\n",
      "6/6 [==============================] - 0s 5ms/step - root_mean_squared_error: 0.2841 - loss: 0.0649 - regularization_loss: 0.0000e+00 - total_loss: 0.0649\n",
      "Epoch 27/50\n",
      "6/6 [==============================] - 0s 4ms/step - root_mean_squared_error: 0.2798 - loss: 0.0629 - regularization_loss: 0.0000e+00 - total_loss: 0.0629\n",
      "Epoch 28/50\n",
      "6/6 [==============================] - 0s 5ms/step - root_mean_squared_error: 0.2752 - loss: 0.0608 - regularization_loss: 0.0000e+00 - total_loss: 0.0608\n",
      "Epoch 29/50\n",
      "6/6 [==============================] - 0s 4ms/step - root_mean_squared_error: 0.2718 - loss: 0.0591 - regularization_loss: 0.0000e+00 - total_loss: 0.0591\n",
      "Epoch 30/50\n",
      "6/6 [==============================] - 0s 5ms/step - root_mean_squared_error: 0.2670 - loss: 0.0569 - regularization_loss: 0.0000e+00 - total_loss: 0.0569\n",
      "Epoch 31/50\n",
      "6/6 [==============================] - 0s 6ms/step - root_mean_squared_error: 0.2629 - loss: 0.0550 - regularization_loss: 0.0000e+00 - total_loss: 0.0550\n",
      "Epoch 32/50\n",
      "6/6 [==============================] - 0s 4ms/step - root_mean_squared_error: 0.2591 - loss: 0.0531 - regularization_loss: 0.0000e+00 - total_loss: 0.0531\n",
      "Epoch 33/50\n",
      "6/6 [==============================] - 0s 4ms/step - root_mean_squared_error: 0.2549 - loss: 0.0512 - regularization_loss: 0.0000e+00 - total_loss: 0.0512\n",
      "Epoch 34/50\n",
      "6/6 [==============================] - 0s 4ms/step - root_mean_squared_error: 0.2519 - loss: 0.0499 - regularization_loss: 0.0000e+00 - total_loss: 0.0499\n",
      "Epoch 35/50\n",
      "6/6 [==============================] - 0s 4ms/step - root_mean_squared_error: 0.2487 - loss: 0.0484 - regularization_loss: 0.0000e+00 - total_loss: 0.0484\n",
      "Epoch 36/50\n",
      "6/6 [==============================] - 0s 4ms/step - root_mean_squared_error: 0.2434 - loss: 0.0463 - regularization_loss: 0.0000e+00 - total_loss: 0.0463\n",
      "Epoch 37/50\n",
      "6/6 [==============================] - 0s 4ms/step - root_mean_squared_error: 0.2377 - loss: 0.0439 - regularization_loss: 0.0000e+00 - total_loss: 0.0439\n",
      "Epoch 38/50\n",
      "6/6 [==============================] - 0s 4ms/step - root_mean_squared_error: 0.2371 - loss: 0.0435 - regularization_loss: 0.0000e+00 - total_loss: 0.0435\n",
      "Epoch 39/50\n",
      "6/6 [==============================] - 0s 4ms/step - root_mean_squared_error: 0.2412 - loss: 0.0451 - regularization_loss: 0.0000e+00 - total_loss: 0.0451\n",
      "Epoch 40/50\n",
      "6/6 [==============================] - 0s 4ms/step - root_mean_squared_error: 0.2292 - loss: 0.0415 - regularization_loss: 0.0000e+00 - total_loss: 0.0415\n",
      "Epoch 41/50\n",
      "6/6 [==============================] - 0s 4ms/step - root_mean_squared_error: 0.2186 - loss: 0.0400 - regularization_loss: 0.0000e+00 - total_loss: 0.0400\n",
      "Epoch 42/50\n",
      "6/6 [==============================] - 0s 4ms/step - root_mean_squared_error: 0.2147 - loss: 0.0352 - regularization_loss: 0.0000e+00 - total_loss: 0.0352\n",
      "Epoch 43/50\n",
      "6/6 [==============================] - 0s 4ms/step - root_mean_squared_error: 0.2701 - loss: 0.0618 - regularization_loss: 0.0000e+00 - total_loss: 0.0618\n",
      "Epoch 44/50\n",
      "6/6 [==============================] - 0s 5ms/step - root_mean_squared_error: 0.2192 - loss: 0.0441 - regularization_loss: 0.0000e+00 - total_loss: 0.0441\n",
      "Epoch 45/50\n",
      "6/6 [==============================] - 0s 4ms/step - root_mean_squared_error: 0.2085 - loss: 0.0348 - regularization_loss: 0.0000e+00 - total_loss: 0.0348\n",
      "Epoch 46/50\n",
      "6/6 [==============================] - 0s 4ms/step - root_mean_squared_error: 0.2038 - loss: 0.0322 - regularization_loss: 0.0000e+00 - total_loss: 0.0322\n",
      "Epoch 47/50\n",
      "6/6 [==============================] - 0s 4ms/step - root_mean_squared_error: 0.2295 - loss: 0.0414 - regularization_loss: 0.0000e+00 - total_loss: 0.0414\n",
      "Epoch 48/50\n",
      "6/6 [==============================] - 0s 5ms/step - root_mean_squared_error: 0.1938 - loss: 0.0352 - regularization_loss: 0.0000e+00 - total_loss: 0.0352\n",
      "Epoch 49/50\n",
      "6/6 [==============================] - 0s 6ms/step - root_mean_squared_error: 0.1981 - loss: 0.0305 - regularization_loss: 0.0000e+00 - total_loss: 0.0305\n",
      "Epoch 50/50\n",
      "6/6 [==============================] - 0s 5ms/step - root_mean_squared_error: 0.2092 - loss: 0.0388 - regularization_loss: 0.0000e+00 - total_loss: 0.0388\n"
     ]
    },
    {
     "data": {
      "text/plain": [
       "<keras.src.callbacks.History at 0x7be044610e80>"
      ]
     },
     "execution_count": 16,
     "metadata": {},
     "output_type": "execute_result"
    }
   ],
   "source": [
    "model.fit(cached_train, epochs=50)"
   ]
  },
  {
   "cell_type": "code",
   "execution_count": 17,
   "id": "3ec68bfe",
   "metadata": {
    "execution": {
     "iopub.execute_input": "2024-06-15T14:28:14.742038Z",
     "iopub.status.busy": "2024-06-15T14:28:14.741171Z",
     "iopub.status.idle": "2024-06-15T14:28:15.027143Z",
     "shell.execute_reply": "2024-06-15T14:28:15.025593Z"
    },
    "papermill": {
     "duration": 0.321108,
     "end_time": "2024-06-15T14:28:15.030276",
     "exception": false,
     "start_time": "2024-06-15T14:28:14.709168",
     "status": "completed"
    },
    "tags": []
   },
   "outputs": [
    {
     "name": "stdout",
     "output_type": "stream",
     "text": [
      "3/3 [==============================] - 0s 5ms/step - root_mean_squared_error: 0.4304 - loss: 0.1197 - regularization_loss: 0.0000e+00 - total_loss: 0.1197\n"
     ]
    },
    {
     "data": {
      "text/plain": [
       "{'root_mean_squared_error': 0.4304179847240448,\n",
       " 'loss': 0.039535921066999435,\n",
       " 'regularization_loss': 0,\n",
       " 'total_loss': 0.039535921066999435}"
      ]
     },
     "execution_count": 17,
     "metadata": {},
     "output_type": "execute_result"
    }
   ],
   "source": [
    "model.evaluate(cached_test, return_dict=True)"
   ]
  },
  {
   "cell_type": "code",
   "execution_count": 18,
   "id": "a39bfb35",
   "metadata": {
    "execution": {
     "iopub.execute_input": "2024-06-15T14:28:15.086767Z",
     "iopub.status.busy": "2024-06-15T14:28:15.086320Z",
     "iopub.status.idle": "2024-06-15T14:28:15.168754Z",
     "shell.execute_reply": "2024-06-15T14:28:15.166477Z"
    },
    "papermill": {
     "duration": 0.11593,
     "end_time": "2024-06-15T14:28:15.171897",
     "exception": false,
     "start_time": "2024-06-15T14:28:15.055967",
     "status": "completed"
    },
    "tags": []
   },
   "outputs": [
    {
     "name": "stdout",
     "output_type": "stream",
     "text": [
      "Similarity:\n",
      "Katering Rumahan: [[1.1610051]]\n",
      "Jasa Memasak: [[0.9978322]]\n",
      "Kanal Youtube Memasak: [[0.91113997]]\n",
      "Kelas Finansial Bisnis : [[0.7526553]]\n"
     ]
    }
   ],
   "source": [
    "test_similarity = {}\n",
    "test_ide_bisnis = [\"Katering Rumahan\", \"Jasa Memasak\", \"Kanal Youtube Memasak\", \"Kelas Finansial Bisnis \"]\n",
    "for ide in test_ide_bisnis:\n",
    "    test_similarity[ide] = model({\n",
    "      \"hobi\": np.array([\"memasak\"]),\n",
    "      \"pekerjaan\": np.array([\"akuntan\"]),\n",
    "      \"lama pengalaman\": np.array([\"Kurang dari 2 Tahun\"]),\n",
    "      \"aset\": np.array([\"rendah\"]),\n",
    "      \"ide_bisnis\": np.array([ide])\n",
    "  })\n",
    "\n",
    "print(\"Similarity:\")\n",
    "for ide, score in sorted(test_similarity.items(), key=lambda x: x[1], reverse=True):\n",
    "  print(f\"{ide}: {score}\")"
   ]
  }
 ],
 "metadata": {
  "kaggle": {
   "accelerator": "none",
   "dataSources": [
    {
     "datasetId": 5216025,
     "sourceId": 8697403,
     "sourceType": "datasetVersion"
    }
   ],
   "dockerImageVersionId": 30732,
   "isGpuEnabled": false,
   "isInternetEnabled": true,
   "language": "python",
   "sourceType": "notebook"
  },
  "kernelspec": {
   "display_name": "Python 3",
   "language": "python",
   "name": "python3"
  },
  "language_info": {
   "codemirror_mode": {
    "name": "ipython",
    "version": 3
   },
   "file_extension": ".py",
   "mimetype": "text/x-python",
   "name": "python",
   "nbconvert_exporter": "python",
   "pygments_lexer": "ipython3",
   "version": "3.10.13"
  },
  "papermill": {
   "default_parameters": {},
   "duration": 52.323471,
   "end_time": "2024-06-15T14:28:18.007548",
   "environment_variables": {},
   "exception": null,
   "input_path": "__notebook__.ipynb",
   "output_path": "__notebook__.ipynb",
   "parameters": {},
   "start_time": "2024-06-15T14:27:25.684077",
   "version": "2.5.0"
  }
 },
 "nbformat": 4,
 "nbformat_minor": 5
}
